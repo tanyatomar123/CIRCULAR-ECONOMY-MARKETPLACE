# Circular Economy Marketplace - Model Training

## 🔄 Lifecycle Prediction
- Load ecommerce_product_dataset.csv
- Preprocess (OneHot + Scaling)
- Train RandomForestRegressor
- Save model & preprocessor

## 💰 Dynamic Pricing
- Load dynamic_pricing_data_5000.csv
- Encode labels, scale numerics
- Train GradientBoostingRegressor
- Save model, scaler, encoders

## 🧠 Product Recommendation
- Load synthetic_product_data_5000.csv
- OneHot + normalize
- Train KNN
- Save model
